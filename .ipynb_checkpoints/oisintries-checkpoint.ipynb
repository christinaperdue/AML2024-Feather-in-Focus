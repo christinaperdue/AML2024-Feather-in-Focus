{
 "cells": [
  {
   "cell_type": "markdown",
   "id": "2735c935",
   "metadata": {
    "id": "2735c935"
   },
   "source": [
    "<h1><center> Group Assignment: Bird Classifier  </center></h1>"
   ]
  },
  {
   "cell_type": "code",
   "execution_count": 285,
   "id": "5dd28ed0-4df4-410e-867b-0ba9acba691a",
   "metadata": {
    "colab": {
     "base_uri": "https://localhost:8080/",
     "height": 250
    },
    "executionInfo": {
     "elapsed": 224,
     "status": "error",
     "timestamp": 1694776892897,
     "user": {
      "displayName": "York Pudds (Yorkie)",
      "userId": "15802187727162843994"
     },
     "user_tz": -120
    },
    "id": "cd0b3ce3",
    "outputId": "da1cfd65-38c1-4971-dd05-c2a17ce22140",
    "scrolled": true
   },
   "outputs": [],
   "source": [
    "# Import PyTorch and supporting libraries\n",
    "import torch\n",
    "import torch.nn as nn\n",
    "import torch.nn.functional as F\n",
    "import torch.optim as optim\n",
    "from torch.utils.data import DataLoader, Dataset\n",
    "from torchvision import datasets, transforms\n",
    "\n",
    "from PIL import Image\n",
    "\n",
    "import os\n",
    "import pandas as pd\n",
    "import matplotlib.pyplot as plt\n",
    "import numpy as np\n"
   ]
  },
  {
   "cell_type": "code",
   "execution_count": 362,
   "id": "60e54e04",
   "metadata": {
    "id": "60e54e04",
    "outputId": "2dda9a07-4c8b-4e52-e8a0-744f58857013"
   },
   "outputs": [
    {
     "name": "stdout",
     "output_type": "stream",
     "text": [
      "Using device: cpu\n"
     ]
    }
   ],
   "source": [
    "# Use GPU if available, else fallback to CPU\n",
    "device = torch.device(\"cuda\" if torch.cuda.is_available() else \"cpu\")\n",
    "print(f\"Using device: {device}\")"
   ]
  },
  {
   "cell_type": "code",
   "execution_count": 364,
   "id": "7046355d-9c8e-4376-a2a4-02c98ad8f848",
   "metadata": {},
   "outputs": [],
   "source": [
    "# Step 1: Load in data sets and set variables\n",
    "\n",
    "# Load the CSV file\n",
    "# train data\n",
    "train_csv_path = \"train_images.csv\"\n",
    "train_label_df = pd.read_csv(train_csv_path)\n",
    "\n",
    "# test data\n",
    "test_csv_path = \"test_images_path.csv\"  # Update this path\n",
    "test_label_df = pd.read_csv(test_csv_path)\n",
    "\n",
    "\n",
    "\n",
    "batch_size = 32\n",
    "learning_rate = 0.001\n",
    "num_epochs = 20"
   ]
  },
  {
   "cell_type": "code",
   "execution_count": 366,
   "id": "0f24d0fe-b281-4f53-9043-fbe869ff0192",
   "metadata": {},
   "outputs": [],
   "source": [
    "# Step 2: Create a Custom Dataset\n",
    "\n",
    "class ImageLabelDataset(Dataset):\n",
    "    def __init__(self, csv_file, transform=None):\n",
    "        \"\"\"\n",
    "        Args:\n",
    "            csv_file (str): Path to the CSV file containing image paths and labels.\n",
    "            transform (callable, optional): Transformations to apply to the images.\n",
    "        \"\"\"\n",
    "        self.data = pd.read_csv(csv_file)\n",
    "        self.transform = transform\n",
    "\n",
    "    def __len__(self):\n",
    "        # Return the total number of samples\n",
    "        return len(self.data)\n",
    "\n",
    "    def __getitem__(self, idx):\n",
    "        # Get the image path and label for the given index\n",
    "        img_path = \"./images/\"+self.data.iloc[idx, 0]  # Image file path\n",
    "        label = self.data.iloc[idx, 1]    # Corresponding label\n",
    "\n",
    "        # Load the image\n",
    "        image = Image.open(img_path).convert(\"RGB\")  # Ensure 3 channels (RGB)\n",
    "\n",
    "        # Apply transformations (if any)\n",
    "        if self.transform:\n",
    "            image = self.transform(image)\n",
    "        \n",
    "        # Convert label to tensor\n",
    "        label = torch.tensor(label, dtype=torch.long)\n",
    "\n",
    "        return image, label\n"
   ]
  },
  {
   "cell_type": "code",
   "execution_count": 368,
   "id": "66cd1321-7c6d-4166-811e-e6e1673c34d0",
   "metadata": {},
   "outputs": [],
   "source": [
    "# Step 3: Define Transformations\n",
    "\n",
    "# Define transformations (resize, convert to tensor, normalize)\n",
    "transform = transforms.Compose([\n",
    "    transforms.Resize( (128, 128)),  # Resize to 128x128\n",
    "    transforms.ToTensor(),          # Convert to tensor\n",
    "    transforms.Normalize(mean=[0.5, 0.5, 0.5], std=[0.5, 0.5, 0.5])  # Normalize values\n",
    "])"
   ]
  },
  {
   "cell_type": "code",
   "execution_count": 370,
   "id": "e2019c04-f55b-4944-a719-f04d53bae382",
   "metadata": {},
   "outputs": [],
   "source": [
    "# Step 5: Instantiate the Dataset and DataLoader\n",
    "\n",
    "# Instantiate the dataset\n",
    "train_dataset = ImageLabelDataset(csv_file=train_csv_path, transform=transform)\n",
    "test_dataset = ImageLabelDataset(csv_file=test_csv_path, transform=transform)\n",
    "\n",
    "# Create a DataLoader for batch processing\n",
    "train_dataloader = DataLoader(train_dataset, batch_size=batch_size, shuffle=True)\n",
    "test_dataloader = DataLoader(test_dataset, batch_size=1, shuffle=False) # set batch size to 1 so that we check all 4000 images"
   ]
  },
  {
   "cell_type": "markdown",
   "id": "3313f93c-48e1-49fe-a198-7d9e6fe88642",
   "metadata": {},
   "source": [
    "Run the below code to see the difference if you."
   ]
  },
  {
   "cell_type": "code",
   "execution_count": 373,
   "id": "7667ac47-65fe-47bf-9f86-d8e2ad973281",
   "metadata": {},
   "outputs": [],
   "source": [
    "#print(f\"train dataset size: {len(train_dataset)}, train data size after data loader:  {len(train_dataloader)}\")\n",
    "#print(f\"test dataset size: {len(test_dataset)}, test data size after data loader:  {len(test_dataloader)}\") "
   ]
  },
  {
   "cell_type": "code",
   "execution_count": 375,
   "id": "ab990d05",
   "metadata": {},
   "outputs": [
    {
     "name": "stdout",
     "output_type": "stream",
     "text": [
      "Batch of images: torch.Size([32, 3, 128, 128])\n",
      "Batch of labels: tensor([ 95, 103,  91,   6, 133, 102, 185,  25,  10, 106, 165,   5,   6,   6,\n",
      "         84,  61, 120,  46,  42,  32, 103,  71, 195,  99,  58,  26, 159, 200,\n",
      "         37,  32, 115,  91])\n",
      "\n",
      "Batch of images: torch.Size([1, 3, 128, 128])\n",
      "Batch of labels: tensor([1])\n"
     ]
    }
   ],
   "source": [
    "# Step 6: Verify the Dataset\n",
    "\n",
    "# Iterate through the train DataLoader\n",
    "for images, labels in train_dataloader:\n",
    "    print(f\"Batch of images: {images.shape}\")  # Should be (batch_size, channels, height, width)\n",
    "    print(f\"Batch of labels: {labels}\")       # Should match the batch_size\n",
    "    break\n",
    "\n",
    "# Iterate through the test DataLoader\n",
    "for images, labels in test_dataloader:\n",
    "    print(f\"\\nBatch of images: {images.shape}\")  # Should be (batch_size, channels, height, width)\n",
    "    print(f\"Batch of labels: {labels}\")       # Should match the batch_size\n",
    "    break"
   ]
  },
  {
   "cell_type": "code",
   "execution_count": 377,
   "id": "48e720ca-6fa0-4f5a-9938-913811d9e820",
   "metadata": {},
   "outputs": [],
   "source": [
    "# Step 6: Create CNN model\n",
    "## COMPLICATED MODEL! ##\n",
    "\n",
    "class CNN(nn.Module):\n",
    "    def __init__(self):\n",
    "        super(CNN, self).__init__()\n",
    "        # Define layers\n",
    "        self.conv1 = nn.Conv2d(3, 16, kernel_size=3, stride=1, padding=1)  # Input channels: 3, Output channels: 16\n",
    "        self.conv2 = nn.Conv2d(16, 32, kernel_size=3, stride=1, padding=1) # Input: 16, Output: 32\n",
    "        self.pool = nn.MaxPool2d(kernel_size=2, stride=2)                  # Downsample by 2x\n",
    "        #self.fc1 = nn.Linear(32 * 32 * 32, 128)                              # Fully connected layer\n",
    "        #self.fc2 = nn.Linear(128, 200)  # Output layer (200 classes)\n",
    "        self.fc1 = nn.Linear(32 * 32 * 32, 128)\n",
    "        self.dropout = nn.Dropout(0.5)  # Drop 50% of nodes during training\n",
    "        self.fc2 = nn.Linear(128, 200)\n",
    "\n",
    "    \n",
    "    def forward(self, x):\n",
    "        \n",
    "        #print(f\"Input shape: {x.shape}\")  # Debugging input shape\n",
    "        x = self.pool(torch.relu(self.conv1(x)))  # Conv1 -> ReLU -> MaxPool\n",
    "        #print(f\"After Conv1: {x.shape}\")\n",
    "        x = self.pool(torch.relu(self.conv2(x)))  # Conv2 -> ReLU -> MaxPool\n",
    "        #print(f\"After Conv2: {x.shape}\")\n",
    "        x = x.view(x.size(0), -1)                # Flatten for fully connected layers\n",
    "        #print(f\"After Flatten: {x.shape}\")\n",
    "        #x = torch.relu(self.fc1(x))              # FC1 -> ReLU\n",
    "        #print(f\"After Fully Connected: {x.shape}\")\n",
    "        #x = self.fc2(x) # FC2 (logits output)\n",
    "\n",
    "        x = torch.relu(self.fc1(x))\n",
    "        x = self.dropout(x)  # Apply dropout\n",
    "        x = self.fc2(x)\n",
    "\n",
    "        return x\n",
    "\n",
    "# Instantiate the model and move it to the appropriate device\n",
    "model = CNN().to(device)"
   ]
  },
  {
   "cell_type": "code",
   "execution_count": 379,
   "id": "ecc468ca-6698-40f4-b8be-93d7b684117a",
   "metadata": {},
   "outputs": [],
   "source": [
    "# Step 6: Create CNN model\n",
    "## SIMPLIFIED MODEL! ##\n",
    "\n",
    "class SimpleCNN(nn.Module):\n",
    "    def __init__(self):\n",
    "        super(SimpleCNN, self).__init__()\n",
    "        # Define layers\n",
    "        self.conv1 = nn.Conv2d(3, 8, kernel_size=3, stride=1, padding=1)  # Reduce filters\n",
    "        self.conv2 = nn.Conv2d(8, 16, kernel_size=3, stride=1, padding=1)  # Reduce filters\n",
    "        self.pool = nn.MaxPool2d(kernel_size=2, stride=2)  # Downsample by 2x\n",
    "        #self.dropout = nn.Dropout(0.5)  # Add dropout to prevent overfitting\n",
    "        self.fc1 = nn.Linear(16 * 32 * 32, 64)  # Reduce size of FC layer\n",
    "        self.fc_combined = nn.Linear(64, 200)  # Output layer (200 classes)\n",
    "\n",
    "    def forward(self, x):\n",
    "        x = self.pool(F.relu(self.conv1(x)))  # Conv1 -> ReLU -> Pool\n",
    "        x = self.pool(F.relu(self.conv2(x)))  # Conv2 -> ReLU -> Pool\n",
    "        x = x.view(x.size(0), -1)  # Flatten for fully connected layers\n",
    "        x = F.relu(self.fc1(x))  # FC1 -> ReLU\n",
    "        #x = self.dropout(x)  # Apply dropout\n",
    "        x = self.fc2(x)\n",
    "\n",
    "        \n",
    "        return x\n",
    "\n",
    "Simplemodel = SimpleCNN().to(device)\n"
   ]
  },
  {
   "cell_type": "code",
   "execution_count": 381,
   "id": "c3044cf1-7e4b-450f-9f0b-2cfa5bf9ced5",
   "metadata": {},
   "outputs": [],
   "source": [
    "# Step 7: Set loss and optimiser function\n",
    "\n",
    "# Loss function: CrossEntropyLoss (good for classification tasks)\n",
    "criterion = nn.CrossEntropyLoss()\n",
    "\n",
    "# Optimizer: Adam optimizer with a learning rate\n",
    "optimizer = optim.Adam(model.parameters(), lr=learning_rate)\n",
    "# optimizer = optim.Adam(model.parameters(), lr=learning_rate, weight_decay=1e-4)"
   ]
  },
  {
   "cell_type": "code",
   "execution_count": 383,
   "id": "8175d25b-72e4-4518-b23d-cac1287f16b4",
   "metadata": {},
   "outputs": [
    {
     "name": "stdout",
     "output_type": "stream",
     "text": [
      "Epoch [1/20], Loss: 5.2920, Accuracy: 0.43%\n",
      "Epoch [2/20], Loss: 5.1906, Accuracy: 0.75%\n",
      "Epoch [3/20], Loss: 5.0252, Accuracy: 1.45%\n",
      "Epoch [4/20], Loss: 4.7496, Accuracy: 2.18%\n",
      "Epoch [5/20], Loss: 4.3631, Accuracy: 3.50%\n",
      "Epoch [6/20], Loss: 3.9049, Accuracy: 5.37%\n",
      "Epoch [7/20], Loss: 3.4169, Accuracy: 7.76%\n",
      "Epoch [8/20], Loss: 2.9618, Accuracy: 10.43%\n",
      "Epoch [9/20], Loss: 2.4606, Accuracy: 13.57%\n",
      "Epoch [10/20], Loss: 2.1032, Accuracy: 16.77%\n",
      "Epoch [11/20], Loss: 1.7908, Accuracy: 19.99%\n",
      "Epoch [12/20], Loss: 1.5680, Accuracy: 23.11%\n",
      "Epoch [13/20], Loss: 1.3880, Accuracy: 26.03%\n",
      "Epoch [14/20], Loss: 1.2241, Accuracy: 28.84%\n",
      "Epoch [15/20], Loss: 1.1001, Accuracy: 31.50%\n",
      "Epoch [16/20], Loss: 1.0176, Accuracy: 33.88%\n",
      "Epoch [17/20], Loss: 0.9786, Accuracy: 36.10%\n",
      "Epoch [18/20], Loss: 0.8827, Accuracy: 38.22%\n",
      "Epoch [19/20], Loss: 0.8526, Accuracy: 40.16%\n",
      "Epoch [20/20], Loss: 0.8144, Accuracy: 41.94%\n"
     ]
    }
   ],
   "source": [
    "# Step 8: Training loop\n",
    "\n",
    "total = 0\n",
    "correct = 0\n",
    "\n",
    "for epoch in range(num_epochs):\n",
    "    Simplemodel.train()  # Set model to training mode\n",
    "    running_loss = 0.0\n",
    "\n",
    "    for images, labels in train_dataloader:\n",
    "        # Move data to device\n",
    "        images, labels = images.to(device), labels.to(device)\n",
    "\n",
    "        # Adjust labels to be in range [0, num_classes-1]\n",
    "        adjusted_labels = labels - 1  # Assuming labels start from 1\n",
    "        \n",
    "        # Forward pass\n",
    "        outputs = model(images)\n",
    "        loss = criterion(outputs, adjusted_labels) # to combat the out of bounds issue I set labels - 1\n",
    "        _, predicted = torch.max(outputs, 1)  # Get class with highest score\n",
    "\n",
    "        # Zero the parameter gradients\n",
    "        optimizer.zero_grad()\n",
    "        \n",
    "        # Backward pass and optimize\n",
    "        loss.backward()\n",
    "        optimizer.step()\n",
    "\n",
    "        # Accumulate loss for display\n",
    "        running_loss += loss.item()\n",
    "\n",
    "        total += labels.size(0)\n",
    "        correct += (predicted + 1 == labels).sum().item()\n",
    "        epoch_accuracy = 100 * correct / total\n",
    "    \n",
    "    print(f\"Epoch [{epoch+1}/{num_epochs}], Loss: {running_loss/len(train_dataloader):.4f}, Accuracy: {epoch_accuracy:.2f}%\")\n"
   ]
  },
  {
   "cell_type": "code",
   "execution_count": 389,
   "id": "3674fe22-6331-474f-95c1-eddb09ea6355",
   "metadata": {},
   "outputs": [],
   "source": [
    "#Step 9: Evaluation loop\n",
    "\n",
    "model.eval()  # Set model to evaluation mode\n",
    "predictions = []  # To store predictions\n",
    "count = 0 # this keeps track of which image we are currently predicting for\n",
    "\n",
    "with torch.no_grad():  # No need to compute gradients during evaluation\n",
    "    for images, labels in test_dataloader: \n",
    "        \n",
    "        images, labels = images.to(device), labels.to(device)\n",
    "        outputs = model(images)\n",
    "        _, predicted = torch.max(outputs, 1)  # Get predicted class\n",
    "\n",
    "        # Add 1 to align predicted labels with the expected range\n",
    "        predicted += 1\n",
    "\n",
    "        # get the current images' image path\n",
    "        image_path = test_label_df[\"image_path\"][count]\n",
    "\n",
    "        # Extract the file name without the extension\n",
    "        image_name = os.path.splitext(os.path.basename(image_path))[0]\n",
    "        \n",
    "        # Store the image path and prediction\n",
    "        predictions.append((image_name, predicted.item()))\n",
    "        count += 1\n",
    "\n",
    "# Save predictions to Excel\n",
    "df = pd.DataFrame(predictions, columns=['id', 'label'])\n",
    "df.to_csv(\"predictions.csv\", index=False)\n"
   ]
  },
  {
   "cell_type": "markdown",
   "id": "fc8f086d-8c92-44a6-ab28-37e212c17dd2",
   "metadata": {},
   "source": [
    "Below is a parameter log with their kaggle results.\n",
    "\n",
    "The format will always be training batch size, learing rate and number of epochs, optimiser :-\n",
    "1. batch size = 32, learning rate = 0.001, number of epochs = 15, optimizer = ADAM, Kaggle score = 0.00525\n",
    "2. batch size = 32, learning rate = 0.001, number of epochs = 15, optimizer = ADAM, Kaggle score = 0.00500\n",
    "3. batch size = 32, learning rate = 0.001, number of epochs = 10, optimizer = ADAM, Kaggle score = 0.00600\n",
    "5. batch size = 32, learning rate = 0.001, number of epochs = 8, optimizer = ADAM, Kaggle score = 0.00525\n",
    "6. batch size = 4, learning rate = 0.001, number of epochs = 20, optimizer = SDG, Kaggle score = 0.00600\n",
    "7. batch size = 32, learning rate = 0.001, number of epochs = 20, optimizer = ADAM, Kaggle score = 0.00525\n",
    "8. batch size = 32, learning rate = 0.001, number of epochs = 20, optimizer = ADAM(weighted), Kaggle score = 0.00750\n",
    "9. (Simple)batch size = 32, learning rate = 0.001, number of epochs = 20, optimizer = ADAM, Kaggle score = 0.00425\n",
    "10. Resnet - Transfer learning, Kaggle score = 0.0700\n",
    "11. (Simple)batch size = 32, learning rate = 0.001, number of epochs = 50, optimizer = ADAM(weighted), Kaggle score = 0.00850\n",
    "12. (Simple)batch size = 32, learning rate = 0.001, number of epochs = 20, optimizer = ADAM, Kaggle score = 0.00325"
   ]
  }
 ],
 "metadata": {
  "colab": {
   "provenance": [],
   "toc_visible": true
  },
  "kernelspec": {
   "display_name": "Python 3 (ipykernel)",
   "language": "python",
   "name": "python3"
  },
  "language_info": {
   "codemirror_mode": {
    "name": "ipython",
    "version": 3
   },
   "file_extension": ".py",
   "mimetype": "text/x-python",
   "name": "python",
   "nbconvert_exporter": "python",
   "pygments_lexer": "ipython3",
   "version": "3.12.3"
  }
 },
 "nbformat": 4,
 "nbformat_minor": 5
}
